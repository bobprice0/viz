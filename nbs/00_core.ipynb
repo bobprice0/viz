{
 "cells": [
  {
   "cell_type": "markdown",
   "metadata": {},
   "source": [
    "# core\n",
    "\n",
    "> Fill in a module description here"
   ]
  },
  {
   "cell_type": "code",
   "execution_count": null,
   "metadata": {},
   "outputs": [],
   "source": [
    "#|default_exp core"
   ]
  },
  {
   "cell_type": "code",
   "execution_count": null,
   "metadata": {},
   "outputs": [],
   "source": [
    "#|export\n",
    "import matplotlib.pyplot as plt\n",
    "from mpl_toolkits.mplot3d import Axes3D\n",
    "from mpl_toolkits import mplot3d\n",
    "from matplotlib import cm\n",
    "import numpy as np\n",
    "import colorsys\n",
    "import math\n",
    "import mpmath"
   ]
  },
  {
   "cell_type": "code",
   "execution_count": null,
   "metadata": {},
   "outputs": [],
   "source": [
    "#|hide\n",
    "from nbdev.showdoc import *"
   ]
  },
  {
   "cell_type": "code",
   "execution_count": null,
   "metadata": {},
   "outputs": [],
   "source": [
    "#|export\n",
    "def cplot3d(f):\n",
    "    fig = plt.figure()\n",
    "    ax = fig.add_subplot(projection='3d')\n",
    "    ur = np.arange(-2, 2, 0.01)\n",
    "    vr = np.arange(-2, 2, 0.01)\n",
    "    u, v = np.meshgrid(ur, vr)\n",
    "\n",
    "    c = u + 1j * v\n",
    "\n",
    "    vf = np.vectorize(f)\n",
    "\n",
    "    r = vf(c)\n",
    "\n",
    "    print(type(r[0, 0]))\n",
    "    # scale colors so that they are in [0,1]\n",
    "    cv = (np.angle(r)/math.pi+1)/2\n",
    "    \n",
    "    r[np.abs(r)>10] = np.nan\n",
    "    ax.set_zlim(top=10)\n",
    "    ax.plot_surface(u, v, np.abs(r), facecolors=cm.rainbow(cv), alpha = 0.5)\n",
    "\n",
    "    plt.show()"
   ]
  },
  {
   "cell_type": "code",
   "execution_count": null,
   "metadata": {},
   "outputs": [],
   "source": [
    "#|export\n",
    "def absplots(fs, titles, **kwargs):\n",
    "    count = len(fs)\n",
    "    ns = range(1, count+1)\n",
    "    fig = plt.figure( figsize=(9,3))\n",
    "    for n, f, title in zip(ns, fs, titles):\n",
    "        ax = fig.add_subplot(1, count, n, projection='3d')\n",
    "        absplot(ax, f, title, **kwargs)"
   ]
  },
  {
   "cell_type": "code",
   "execution_count": null,
   "metadata": {},
   "outputs": [],
   "source": [
    "#|export\n",
    "def absplot(axes, f, title, max_im = 6.3):\n",
    "    ctx = mpmath\n",
    "    X = np.arange(-6.3, 5.3, 0.125)\n",
    "    Y = np.arange(-max_im, max_im, 0.125)\n",
    "    X, Y = np.meshgrid(X, Y)\n",
    "    xn, yn = X.shape\n",
    "    W = X*0\n",
    "    for xk in range(xn):\n",
    "        for yk in range(yn):\n",
    "            ctx.mpc(X[xk,yk], Y[xk,yk])\n",
    "            z = complex(X[xk,yk], Y[xk,yk])\n",
    "            w = abs(f(z))\n",
    "            W[xk,yk] = w\n",
    "    axes.plot_wireframe(X, Y, W, rstride=5, cstride=5)\n",
    "    axes.view_init(30, 315)\n",
    "    axes.set_title(title, fontsize=20)"
   ]
  },
  {
   "cell_type": "code",
   "execution_count": null,
   "metadata": {},
   "outputs": [],
   "source": [
    "#|export\n",
    "def phase_plot(fs,                 # the funtion(s) to plot\n",
    "               titles,             # the titles for each plot\n",
    "               imagesz=3           # the size of each image (units???)\n",
    "              ):\n",
    "    \"\"\"A 2D depiction of a rectangular area of the domain of the function using colour \n",
    "    to indicate the phase of the output of the function, \n",
    "    with brightness indicating the magnitude.\n",
    "    \"\"\"\n",
    "    if not isinstance(fs, list):\n",
    "        fs, titles = [fs], [titles] \n",
    "    count = len(fs)\n",
    "    fig, axes = plt.subplots(ncols=count, figsize=(count*imagesz, imagesz))\n",
    "    if count==1:\n",
    "        axes = [axes]\n",
    "    for ax, f, title in zip(axes, fs, titles):\n",
    "        do_phase_plot(ax, f, title, [-6.3,6.3],[-6.3,6.3], points=10000)"
   ]
  },
  {
   "cell_type": "code",
   "execution_count": null,
   "metadata": {},
   "outputs": [],
   "source": [
    "#|exporti\n",
    "def default_color_function(ctx, z):\n",
    "    if ctx.isinf(z):\n",
    "        return (1.0, 1.0, 1.0)\n",
    "    if ctx.isnan(z):\n",
    "        return (0.5, 0.5, 0.5)\n",
    "    pi = 3.1415926535898\n",
    "    a = (float(ctx.arg(z)) + ctx.pi) / (2*ctx.pi)\n",
    "    a = (a + 0.5) % 1.0\n",
    "    b = 1.0 - float(1/(1.0+abs(z)**0.3))\n",
    "    return colorsys.hls_to_rgb(a, b, 0.8)"
   ]
  },
  {
   "cell_type": "code",
   "execution_count": null,
   "metadata": {},
   "outputs": [],
   "source": [
    "#|exporti\n",
    "def do_phase_plot(axes, f, title, re=[-5,5], im=[-5,5], points=2000, color=None,\n",
    "    verbose=False, file=None, dpi=None):\n",
    "    ctx = mpmath\n",
    "    color = default_color_function\n",
    "    rea, reb = re\n",
    "    ima, imb = im\n",
    "    dre = reb - rea\n",
    "    dim = imb - ima\n",
    "    M = int(ctx.sqrt(points*dre/dim)+1)\n",
    "    N = int(ctx.sqrt(points*dim/dre)+1)\n",
    "    x = np.linspace(rea, reb, M)\n",
    "    y = np.linspace(ima, imb, N)\n",
    "    # Note: we have to be careful to get the right rotation.\n",
    "    # Test with these plots:\n",
    "    #   cplot(lambda z: z if z.real < 0 else 0)\n",
    "    #   cplot(lambda z: z if z.imag < 0 else 0)\n",
    "    w = np.zeros((N, M, 3))\n",
    "    for n in range(N):\n",
    "        for m in range(M):\n",
    "            z = ctx.mpc(x[m], y[n])\n",
    "            try:\n",
    "                v = color(ctx, f(z))\n",
    "            except:\n",
    "                v = (0.1, 0.5, 0.5)\n",
    "            w[n,m] = v\n",
    "        if verbose:\n",
    "            print(str(n) + ' of ' + str(N))\n",
    "    rea, reb, ima, imb = [float(_) for _ in [rea, reb, ima, imb]]\n",
    "    axes.imshow(w, extent=(rea, reb, ima, imb), origin='lower')\n",
    "    axes.set_title(title, fontsize=20)\n"
   ]
  },
  {
   "cell_type": "code",
   "execution_count": null,
   "metadata": {},
   "outputs": [],
   "source": [
    "#| hide\n",
    "import nbdev; nbdev.nbdev_export()"
   ]
  },
  {
   "cell_type": "code",
   "execution_count": null,
   "metadata": {},
   "outputs": [],
   "source": []
  }
 ],
 "metadata": {
  "kernelspec": {
   "display_name": "python3",
   "language": "python",
   "name": "python3"
  }
 },
 "nbformat": 4,
 "nbformat_minor": 4
}
