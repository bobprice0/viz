{
 "cells": [
  {
   "cell_type": "markdown",
   "metadata": {},
   "source": [
    "# core\n",
    "\n",
    "> Fill in a module description here"
   ]
  },
  {
   "cell_type": "code",
   "execution_count": 1,
   "metadata": {},
   "outputs": [],
   "source": [
    "#|default_exp core"
   ]
  },
  {
   "cell_type": "code",
   "execution_count": 69,
   "metadata": {},
   "outputs": [],
   "source": [
    "#|export\n",
    "import matplotlib.pyplot as plt\n",
    "from mpl_toolkits.mplot3d import Axes3D\n",
    "from mpl_toolkits import mplot3d\n",
    "from matplotlib import cm\n",
    "import numpy as np\n",
    "import colorsys\n",
    "import math\n",
    "import cmath\n",
    "import mpmath"
   ]
  },
  {
   "cell_type": "code",
   "execution_count": 70,
   "metadata": {},
   "outputs": [],
   "source": [
    "#|hide\n",
    "from nbdev.showdoc import *\n",
    "from fastcore.test import test_eq"
   ]
  },
  {
   "cell_type": "code",
   "execution_count": 71,
   "metadata": {},
   "outputs": [],
   "source": [
    "#|export\n",
    "def cplot3d(f):\n",
    "    fig = plt.figure()\n",
    "    ax = fig.add_subplot(projection='3d')\n",
    "    ur = np.arange(-2, 2, 0.01)\n",
    "    vr = np.arange(-2, 2, 0.01)\n",
    "    u, v = np.meshgrid(ur, vr)\n",
    "\n",
    "    c = u + 1j * v\n",
    "\n",
    "    vf = np.vectorize(f)\n",
    "\n",
    "    r = vf(c)\n",
    "\n",
    "    print(type(r[0, 0]))\n",
    "    # scale colors so that they are in [0,1]\n",
    "    cv = (np.angle(r)/math.pi+1)/2\n",
    "    \n",
    "    r[np.abs(r)>10] = np.nan\n",
    "    ax.set_zlim(top=10)\n",
    "    ax.plot_surface(u, v, np.abs(r), facecolors=cm.rainbow(cv), alpha = 0.5)\n",
    "\n",
    "    plt.show()"
   ]
  },
  {
   "cell_type": "code",
   "execution_count": 72,
   "metadata": {},
   "outputs": [],
   "source": [
    "#|export\n",
    "def abs_plot(fs, titles, **kwargs):\n",
    "    if not isinstance(fs, list):\n",
    "        fs, titles = [fs], [titles] \n",
    "    count = len(fs)\n",
    "    ns = range(1, count+1)\n",
    "    fig = plt.figure( figsize=(9,3))\n",
    "    for n, f, title in zip(ns, fs, titles):\n",
    "        ax = fig.add_subplot(1, count, n, projection='3d')\n",
    "        do_abs_plot(ax, f, title, **kwargs)"
   ]
  },
  {
   "cell_type": "code",
   "execution_count": 111,
   "metadata": {},
   "outputs": [],
   "source": [
    "#|export\n",
    "def phase_plot(\n",
    "                 f,                  # the function to be plotted.\n",
    "                 *,                  # ???\n",
    "                 cmod = cmath,       # the module to be used for complex numbers\n",
    "                 title = None,       # a title for the plot\n",
    "                 axes = None,        # axes, if a subplot has already been allocated\n",
    "                 imagesz = 3,        # images size, if axes have not been specified\n",
    "                 re=[-5,5],          # range for the real axis\n",
    "                 im=[-5,5],          # range for the imaginary axis\n",
    "                 points=2000,        # the approximate number of 'pixels' in the plotted image\n",
    "                 color=None,\n",
    "                 verbose=False\n",
    "            ):\n",
    "    \"\"\"A 2D depiction of a rectangular area of the domain of the function using colour \n",
    "    to indicate the phase of the output of the function, \n",
    "    with brightness indicating the magnitude.\n",
    "    \"\"\"\n",
    "    if axes is None:\n",
    "        _, axes = plt.subplots(ncols=1, figsize=(imagesz, imagesz))\n",
    "    cshim = get_shim(cmod)\n",
    "    color = default_color_function\n",
    "    rea, reb = re\n",
    "    ima, imb = im\n",
    "    dre = reb - rea\n",
    "    dim = imb - ima\n",
    "    M = int(math.sqrt(points*dre/dim)+1)\n",
    "    N = int(math.sqrt(points*dim/dre)+1)\n",
    "    x = np.linspace(rea, reb, M)\n",
    "    y = np.linspace(ima, imb, N)\n",
    "    # Note: we have to be careful to get the right rotation.\n",
    "    # Test with these plots:\n",
    "    #   cplot(lambda z: z if z.real < 0 else 0)\n",
    "    #   cplot(lambda z: z if z.imag < 0 else 0)\n",
    "    w = np.zeros((N, M, 3))\n",
    "    for n in range(N):\n",
    "        for m in range(M):\n",
    "            z = cshim.new(x[m], y[n])\n",
    "            try:\n",
    "                v = color(cshim, f(z))\n",
    "            except:\n",
    "                v = (0.1, 0.5, 0.5)\n",
    "            w[n,m] = v\n",
    "        if verbose:\n",
    "            print(str(n) + ' of ' + str(N))\n",
    "    rea, reb, ima, imb = [float(_) for _ in [rea, reb, ima, imb]]\n",
    "    axes.imshow(w, extent=(rea, reb, ima, imb), origin='lower')\n",
    "    if not(title is None):\n",
    "        axes.set_title(title, fontsize=20)\n",
    "    return axes"
   ]
  },
  {
   "cell_type": "markdown",
   "metadata": {},
   "source": [
    "When using the default colour function, the complex plane itself looks like this. Plotted points get lighter as their magnitude increases."
   ]
  },
  {
   "cell_type": "code",
   "execution_count": 134,
   "metadata": {},
   "outputs": [
    {
     "data": {
      "image/png": "[encoded data removed]",
      "text/plain": [
       "<Figure size 216x216 with 1 Axes>"
      ]
     },
     "metadata": {
      "needs_background": "light"
     },
     "output_type": "display_data"
    }
   ],
   "source": [
    "ax = phase_plot(lambda z: z, re=[-100,100], im=[-100,100])"
   ]
  },
  {
   "cell_type": "markdown",
   "metadata": {},
   "source": [
    "The function should return the axes object that was used, so that the plot can be further embellished."
   ]
  },
  {
   "cell_type": "code",
   "execution_count": 135,
   "metadata": {},
   "outputs": [],
   "source": [
    "#|hide\n",
    "test_eq(str(type(ax)), '<class \\'matplotlib.axes._subplots.AxesSubplot\\'>')"
   ]
  },
  {
   "cell_type": "markdown",
   "metadata": {},
   "source": [
    "The function to be plotted can be formulated using complex functions from cmath, mpmath or np. The module can be specified using the `cmod` argument."
   ]
  },
  {
   "cell_type": "code",
   "execution_count": 148,
   "metadata": {},
   "outputs": [
    {
     "data": {
      "image/png": "[encoded data removed]",
      "text/plain": [
       "<Figure size 216x216 with 1 Axes>"
      ]
     },
     "metadata": {
      "needs_background": "light"
     },
     "output_type": "display_data"
    },
    {
     "data": {
      "image/png": "[encoded data removed]",
      "text/plain": [
       "<Figure size 216x216 with 1 Axes>"
      ]
     },
     "metadata": {
      "needs_background": "light"
     },
     "output_type": "display_data"
    },
    {
     "data": {
      "image/png": "[encoded data removed]",
      "text/plain": [
       "<Figure size 216x216 with 1 Axes>"
      ]
     },
     "metadata": {
      "needs_background": "light"
     },
     "output_type": "display_data"
    }
   ],
   "source": [
    "#| hide\n",
    "(ax1, ax2, ax3) = (phase_plot(lambda z: cmath.sin(z), cmod = cmath), \n",
    "                   phase_plot(lambda z: mpmath.sin(z)), \n",
    "                   phase_plot(lambda z: np.sin(z)))"
   ]
  },
  {
   "cell_type": "markdown",
   "metadata": {},
   "source": [
    "Using the default color map, if the output of the function is 'nan', the plotted point will be grey. If the output of the function is infinite, the result will be white."
   ]
  },
  {
   "cell_type": "code",
   "execution_count": 153,
   "metadata": {},
   "outputs": [
    {
     "name": "stderr",
     "output_type": "stream",
     "text": [
      "/tmp/ipykernel_82582/845096383.py:4: RuntimeWarning: divide by zero encountered in cdouble_scalars\n",
      "  return z/0.0\n"
     ]
    },
    {
     "data": {
      "image/png": "[encoded data removed]",
      "text/plain": [
       "<Figure size 216x216 with 1 Axes>"
      ]
     },
     "metadata": {
      "needs_background": "light"
     },
     "output_type": "display_data"
    }
   ],
   "source": [
    "def f1(z):\n",
    "    if z.real < 0:\n",
    "        if z.imag > 0:\n",
    "            return z/0.0\n",
    "        else:\n",
    "            return cmath.nan\n",
    "    else:\n",
    "        return z\n",
    "\n",
    "ax = phase_plot(f1)"
   ]
  },
  {
   "cell_type": "code",
   "execution_count": 147,
   "metadata": {},
   "outputs": [],
   "source": [
    "#|export\n",
    "def phase_plot_array(\n",
    "               fs,                 # the funtion(s) to plot\n",
    "               titles,             # the titles for each plot\n",
    "               *,\n",
    "               imagesz=3,          # the size of each image (units???)\n",
    "               **kwargs            # remaining keyword arguments are passed to `phase_plot`\n",
    "              ):\n",
    "    \"\"\"A convenience function allowing several phase plots to be displayed side by side\"\"\"\n",
    "    if not isinstance(fs, list):\n",
    "        fs, titles = [fs], [titles] \n",
    "    count = len(fs)\n",
    "    fig, axes = plt.subplots(ncols=count, figsize=(count*imagesz, imagesz))\n",
    "    if count==1:\n",
    "        axes = [axes]\n",
    "    for ax, f, t in zip(axes, fs, titles):\n",
    "        phase_plot(f, title=t, axes=ax, points=2000)"
   ]
  },
  {
   "cell_type": "code",
   "execution_count": 140,
   "metadata": {},
   "outputs": [],
   "source": [
    "#|exporti\n",
    "def default_color_function(shim, z):\n",
    "    if shim.isinf(z):\n",
    "        return (1.0, 1.0, 1.0)\n",
    "    if shim.isnan(z):\n",
    "        return (0.5, 0.5, 0.5)\n",
    "    a = (float(shim.arg(z)) + math.pi) / (2*math.pi)\n",
    "    a = (a + 0.5) % 1.0\n",
    "    b = 1.0 - float(1/(1.0+abs(z)**0.3))\n",
    "    return colorsys.hls_to_rgb(a, b, 0.8)"
   ]
  },
  {
   "cell_type": "code",
   "execution_count": 141,
   "metadata": {},
   "outputs": [],
   "source": [
    "#|exporti\n",
    "def do_abs_plot(axes, f, title, max_im = 6.3):\n",
    "    ctx = mpmath\n",
    "    X = np.arange(-6.3, 5.3, 0.125)\n",
    "    Y = np.arange(-max_im, max_im, 0.125)\n",
    "    X, Y = np.meshgrid(X, Y)\n",
    "    xn, yn = X.shape\n",
    "    W = X*0\n",
    "    for xk in range(xn):\n",
    "        for yk in range(yn):\n",
    "            ctx.mpc(X[xk,yk], Y[xk,yk])\n",
    "            z = complex(X[xk,yk], Y[xk,yk])\n",
    "            w = abs(f(z))\n",
    "            W[xk,yk] = w\n",
    "    axes.plot_wireframe(X, Y, W, rstride=5, cstride=5)\n",
    "    axes.view_init(30, 315)\n",
    "    axes.set_title(title, fontsize=20)"
   ]
  },
  {
   "cell_type": "code",
   "execution_count": 142,
   "metadata": {},
   "outputs": [],
   "source": [
    "#| exporti\n",
    "class ComplexShim:\n",
    "    def __init__(self, cmod):\n",
    "        if cmod == cmath:\n",
    "            self.new = lambda r, i: r + 1j*i\n",
    "            self.arg = cmath.phase\n",
    "            self.isnan = cmath.isnan\n",
    "            self.isinf = cmath.isinf\n",
    "        elif cmod == mpmath:\n",
    "            self.new = lambda r, i: mpmath.mpc(r, i)\n",
    "            self.arg = mpmath.arg\n",
    "            self.isnan = mpmath.isnan\n",
    "            self.isinf = mpmath.isinf\n",
    "        elif cmod == np:\n",
    "            self.new = lambda r, i: r + 1j*i\n",
    "            self.arg = cmath.phase\n",
    "            self.isnan = cmath.isnan\n",
    "            self.isinf = cmath.isinf\n",
    "        else:\n",
    "            raise Exception('todo')\n",
    "\n",
    "def get_shim(cmod):\n",
    "    return ComplexShim(cmod)"
   ]
  },
  {
   "cell_type": "code",
   "execution_count": 143,
   "metadata": {},
   "outputs": [],
   "source": [
    "#| hide\n",
    "import nbdev; nbdev.nbdev_export()"
   ]
  },
  {
   "cell_type": "code",
   "execution_count": null,
   "metadata": {},
   "outputs": [],
   "source": []
  }
 ],
 "metadata": {
  "kernelspec": {
   "display_name": "Python 3 (ipykernel)",
   "language": "python",
   "name": "python3"
  },
  "language_info": {
   "codemirror_mode": {
    "name": "ipython",
    "version": 3
   },
   "file_extension": ".py",
   "mimetype": "text/x-python",
   "name": "python",
   "nbconvert_exporter": "python",
   "pygments_lexer": "ipython3",
   "version": "3.10.12"
  }
 },
 "nbformat": 4,
 "nbformat_minor": 4
}
